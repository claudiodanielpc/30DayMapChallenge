{
 "cells": [
  {
   "cell_type": "code",
   "execution_count": 46,
   "metadata": {},
   "outputs": [],
   "source": [
    "#Librerías\n",
    "\n",
    "import pandas as pd\n",
    "from keplergl import KeplerGl\n",
    "from selenium import webdriver\n",
    "import time \n"
   ]
  },
  {
   "cell_type": "code",
   "execution_count": 24,
   "metadata": {},
   "outputs": [],
   "source": [
    "#URL de descarga\n",
    "url=\"https://datos.cdmx.gob.mx/dataset/b3514d29-dedc-4006-90f3-156e0c56fb90/resource/44bc1807-a7ba-44a0-bf46-504623a30905/download/vialidades-de-la-ciudad-de-mexico.csv\""
   ]
  },
  {
   "cell_type": "code",
   "execution_count": 25,
   "metadata": {},
   "outputs": [
    {
     "data": {
      "text/plain": [
       "473"
      ]
     },
     "execution_count": 25,
     "metadata": {},
     "output_type": "execute_result"
    }
   ],
   "source": [
    "#Leer datos de la URL\n",
    "vialidades=pd.read_csv(url)\n",
    "len(vialidades)"
   ]
  },
  {
   "cell_type": "code",
   "execution_count": 26,
   "metadata": {},
   "outputs": [],
   "source": [
    "#Filtro de datos\n",
    "#vialidades = vialidades[vialidades[\"tipo_via\"] == \"Eje Vial\"]\n",
    "#len(vialidades)"
   ]
  },
  {
   "cell_type": "code",
   "execution_count": 34,
   "metadata": {},
   "outputs": [
    {
     "data": {
      "application/vnd.jupyter.widget-view+json": {
       "model_id": "83db7598df96402c95e1bab01719e83b",
       "version_major": 2,
       "version_minor": 0
      },
      "text/plain": [
       "KeplerGl(data={'vialidad':       id                  geo_point_2d  \\\n",
       "0      1  19.4154894614,-99.1802190766   …"
      ]
     },
     "metadata": {},
     "output_type": "display_data"
    }
   ],
   "source": [
    "map=KeplerGl(height=800, data={\"vialidad\":vialidades},show_docs=False)\n",
    "map"
   ]
  },
  {
   "cell_type": "code",
   "execution_count": 39,
   "metadata": {},
   "outputs": [],
   "source": [
    "#Obtener y almacenar la configuración del mapa ajustado\n",
    "config=map.config\n",
    "\n",
    "#Guardar el mapa con la configuración generada\n",
    "map=KeplerGl(height=800, data={\"vialidad\":vialidades},show_docs=False, config=config)"
   ]
  },
  {
   "cell_type": "code",
   "execution_count": 40,
   "metadata": {},
   "outputs": [
    {
     "name": "stdout",
     "output_type": "stream",
     "text": [
      "Map saved to D:\\Documentos\\Github\\30DayMapChallenge\\day_2_lines.html!\n"
     ]
    }
   ],
   "source": [
    "#Salvar mapa\n",
    "map.save_to_html(config=config, file_name='D:\\\\Documentos\\\\Github\\\\30DayMapChallenge\\\\day_2_lines.html')\n"
   ]
  },
  {
   "cell_type": "code",
   "execution_count": 50,
   "metadata": {},
   "outputs": [
    {
     "name": "stderr",
     "output_type": "stream",
     "text": [
      "C:\\Users\\claud\\AppData\\Local\\Temp/ipykernel_27644/2282135221.py:2: DeprecationWarning: executable_path has been deprecated, please pass in a Service object\n",
      "  browser = webdriver.Chrome(executable_path=\"C:\\\\Program Files (x86)\\\\chromedriver.exe\")\n"
     ]
    }
   ],
   "source": [
    "\n",
    "#Abrir explorador y archivo generado\n",
    "browser = webdriver.Chrome(executable_path=\"C:\\\\Program Files (x86)\\\\chromedriver.exe\")\n",
    "#Maximizar ventana\n",
    "browser.maximize_window()\n",
    "browser.get('D:\\\\Documentos\\\\Github\\\\30DayMapChallenge\\\\day_2_lines.html')\n",
    "#Tiempo de espera para tomar captura y cerrar\n",
    "time.sleep(7)\n",
    "#Salvar screenshot\n",
    "browser.save_screenshot('D:\\\\Documentos\\\\Github\\\\30DayMapChallenge\\\\day_2_lines.png')\n",
    "#Cerrar navegador\n",
    "browser.quit()"
   ]
  }
 ],
 "metadata": {
  "interpreter": {
   "hash": "6dfa952df24235a7f82c054f89bdfa0be495d0889012dc8a2693c32303930461"
  },
  "kernelspec": {
   "display_name": "Python 3.9.5 64-bit ('base': conda)",
   "name": "python3"
  },
  "language_info": {
   "codemirror_mode": {
    "name": "ipython",
    "version": 3
   },
   "file_extension": ".py",
   "mimetype": "text/x-python",
   "name": "python",
   "nbconvert_exporter": "python",
   "pygments_lexer": "ipython3",
   "version": "3.9.5"
  },
  "orig_nbformat": 4
 },
 "nbformat": 4,
 "nbformat_minor": 2
}
